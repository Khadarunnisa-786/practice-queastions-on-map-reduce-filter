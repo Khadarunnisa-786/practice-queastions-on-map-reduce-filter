{
 "cells": [
  {
   "cell_type": "markdown",
   "id": "a7bcb271-72bb-4519-8fee-ada718aabd26",
   "metadata": {},
   "source": [
    "1.Convert a list of strings to uppercase\n",
    "words = ['python', 'is', 'awesome'] Output: ['PYTHON', 'IS', 'AWESOME']"
   ]
  },
  {
   "cell_type": "code",
   "execution_count": 1,
   "id": "dcbd2f95-ba88-442d-80b3-6c5bae699606",
   "metadata": {},
   "outputs": [],
   "source": [
    "words = ['python', 'is', 'awesome']\n",
    "uppercased = list(map(str.upper ,words))\n"
   ]
  },
  {
   "cell_type": "code",
   "execution_count": 2,
   "id": "57f2be9b-9a61-4bc0-9f18-94d4e473cced",
   "metadata": {},
   "outputs": [
    {
     "data": {
      "text/plain": [
       "['PYTHON', 'IS', 'AWESOME']"
      ]
     },
     "execution_count": 2,
     "metadata": {},
     "output_type": "execute_result"
    }
   ],
   "source": [
    "uppercased"
   ]
  },
  {
   "cell_type": "markdown",
   "id": "f25526b7-785b-488b-9c81-cad9fd88726d",
   "metadata": {},
   "source": [
    "2.Square all numbers in a list\n",
    "numbers = [1, 2, 3, 4] utput: [1, 4, 9, 16]"
   ]
  },
  {
   "cell_type": "code",
   "execution_count": 4,
   "id": "15dbd4cb-f927-4fdc-abe7-29e94f713f24",
   "metadata": {},
   "outputs": [
    {
     "data": {
      "text/plain": [
       "[1, 4, 9, 16]"
      ]
     },
     "execution_count": 4,
     "metadata": {},
     "output_type": "execute_result"
    }
   ],
   "source": [
    "numbers = [1,2,3,4]\n",
    "[i**2 for i in numbers]"
   ]
  },
  {
   "cell_type": "markdown",
   "id": "7494eafc-7b06-44ee-8aba-225a47966698",
   "metadata": {},
   "source": [
    "3.Convert a list of integers to strings\n",
    "nums = [1, 2, 3] Output: ['1', '2', '3']"
   ]
  },
  {
   "cell_type": "code",
   "execution_count": 6,
   "id": "3d514a3b-ca38-42ed-b5fe-6941f272a8e4",
   "metadata": {},
   "outputs": [],
   "source": [
    "nums = [1, 2, 3]\n",
    "output = list(map(str, nums))"
   ]
  },
  {
   "cell_type": "code",
   "execution_count": 7,
   "id": "f734c6e9-0029-4677-a2a1-d2ff8db41792",
   "metadata": {},
   "outputs": [
    {
     "data": {
      "text/plain": [
       "['1', '2', '3']"
      ]
     },
     "execution_count": 7,
     "metadata": {},
     "output_type": "execute_result"
    }
   ],
   "source": [
    "output"
   ]
  },
  {
   "cell_type": "markdown",
   "id": "c3ae7d87-d916-42c6-8855-f04387222077",
   "metadata": {},
   "source": [
    "4.Add 5 to each element in a list marks = [50, 60, 70] Output: [55, 65, 75]"
   ]
  },
  {
   "cell_type": "code",
   "execution_count": 8,
   "id": "8a448398-7d4f-4d93-87fd-e22a390717f3",
   "metadata": {},
   "outputs": [],
   "source": [
    "marks = [50, 60, 70]\n",
    "output = [x + 5 for x in marks]"
   ]
  },
  {
   "cell_type": "code",
   "execution_count": 9,
   "id": "b71dfb91-3412-492d-b2ae-fd2eff40f1fc",
   "metadata": {},
   "outputs": [
    {
     "data": {
      "text/plain": [
       "[55, 65, 75]"
      ]
     },
     "execution_count": 9,
     "metadata": {},
     "output_type": "execute_result"
    }
   ],
   "source": [
    "output"
   ]
  },
  {
   "cell_type": "markdown",
   "id": "62693361-1b63-4845-b317-1c5aca481a14",
   "metadata": {},
   "source": [
    "5.Get lengths of all strings in a list\n",
    "\n",
    "names = ['apple', 'banana', 'kiwi'] Output: [5, 6, 4]"
   ]
  },
  {
   "cell_type": "code",
   "execution_count": 13,
   "id": "8d0c7bda-1c02-41a3-aaca-8f3fa3374701",
   "metadata": {},
   "outputs": [],
   "source": [
    "names = ['apple', 'banana', 'kiwi']\n",
    "output = [len(i) for i in names]"
   ]
  },
  {
   "cell_type": "code",
   "execution_count": 14,
   "id": "617ea4a7-89e9-4856-adde-cd562d9b52fd",
   "metadata": {},
   "outputs": [
    {
     "data": {
      "text/plain": [
       "[5, 6, 4]"
      ]
     },
     "execution_count": 14,
     "metadata": {},
     "output_type": "execute_result"
    }
   ],
   "source": [
    "output"
   ]
  },
  {
   "cell_type": "markdown",
   "id": "4494e855-a473-4d14-b0dd-b2f1476195e3",
   "metadata": {},
   "source": [
    "1.Filter out even numbers\n",
    "nums = [1, 2, 3, 4, 5, 6] Output: [2, 4, 6]"
   ]
  },
  {
   "cell_type": "code",
   "execution_count": 15,
   "id": "863c3110-1406-491e-a79b-2f5006adefa0",
   "metadata": {},
   "outputs": [],
   "source": [
    "nums = [1, 2, 3, 4, 5, 6]\n",
    "output = [x for x in nums if x % 2 == 0]"
   ]
  },
  {
   "cell_type": "code",
   "execution_count": 16,
   "id": "6823f5d8-a7ce-45d5-b956-9a6e6fecdacf",
   "metadata": {},
   "outputs": [
    {
     "data": {
      "text/plain": [
       "[2, 4, 6]"
      ]
     },
     "execution_count": 16,
     "metadata": {},
     "output_type": "execute_result"
    }
   ],
   "source": [
    "output"
   ]
  },
  {
   "cell_type": "markdown",
   "id": "ed13af91-ff06-4476-a000-dc136a77c3d8",
   "metadata": {},
   "source": [
    "2.Keep only strings with more than 3 characters\n",
    "words = ['hi', 'hello', 'hey', 'sun'] Output: ['hello']"
   ]
  },
  {
   "cell_type": "code",
   "execution_count": 20,
   "id": "f21e63df-3779-4e2f-8582-f38f53e59d31",
   "metadata": {},
   "outputs": [],
   "source": [
    "words = ['hi', 'hello', 'hey', 'sun']\n",
    "output = [i for i in words if len(i) > 3]"
   ]
  },
  {
   "cell_type": "code",
   "execution_count": 21,
   "id": "01dadb63-fde0-46a2-a155-3c34a03c9b8b",
   "metadata": {},
   "outputs": [
    {
     "data": {
      "text/plain": [
       "['hello']"
      ]
     },
     "execution_count": 21,
     "metadata": {},
     "output_type": "execute_result"
    }
   ],
   "source": [
    "output"
   ]
  },
  {
   "cell_type": "markdown",
   "id": "c8bd4648-82ad-4622-8e6d-40dc564eb674",
   "metadata": {},
   "source": [
    " 3.Remove empty strings from a list\n",
    "data = ['Python', '', 'Java', '', 'C++'] Output: ['Python', 'Java', 'C++']"
   ]
  },
  {
   "cell_type": "code",
   "execution_count": 23,
   "id": "5717c616-0f73-4292-82bb-64f3a57d7215",
   "metadata": {},
   "outputs": [],
   "source": [
    "data = ['Python', '', 'Java', '', 'C++']\n",
    "non_empty = list(filter(None, data))"
   ]
  },
  {
   "cell_type": "code",
   "execution_count": 24,
   "id": "4dc4c4bd-e6a4-428c-85d9-e6df0aed70da",
   "metadata": {},
   "outputs": [
    {
     "data": {
      "text/plain": [
       "['Python', 'Java', 'C++']"
      ]
     },
     "execution_count": 24,
     "metadata": {},
     "output_type": "execute_result"
    }
   ],
   "source": [
    "non_empty"
   ]
  },
  {
   "cell_type": "markdown",
   "id": "e834b8e9-9a5d-41ad-85ea-637b81462c8c",
   "metadata": {},
   "source": [
    "4.Get names that start with 'A' names = ['Alice', 'Bob', 'Angela', 'Tom'] Output: ['Alice', 'Angela']"
   ]
  },
  {
   "cell_type": "code",
   "execution_count": 25,
   "id": "ad89a681-1c32-4a38-9aef-2bf59d490d75",
   "metadata": {},
   "outputs": [],
   "source": [
    "names = ['Alice', 'Bob', 'Angela', 'Tom']\n",
    "output = [i for i in names if i.startswith('A')]"
   ]
  },
  {
   "cell_type": "code",
   "execution_count": 26,
   "id": "b3924a82-fb9d-4403-8c92-c916d0bee9e4",
   "metadata": {},
   "outputs": [
    {
     "data": {
      "text/plain": [
       "['Alice', 'Angela']"
      ]
     },
     "execution_count": 26,
     "metadata": {},
     "output_type": "execute_result"
    }
   ],
   "source": [
    "output"
   ]
  },
  {
   "cell_type": "markdown",
   "id": "bdec4a4d-cbac-41b4-ba2c-2d9c695a8779",
   "metadata": {},
   "source": [
    "5.Keep truthy values only\n",
    "items = [0, None, 'hello', False, 42, ''] Output: ['hello', 42]"
   ]
  },
  {
   "cell_type": "code",
   "execution_count": 27,
   "id": "d2c9aaa9-32b2-40d3-a2fc-de0c14d991ad",
   "metadata": {},
   "outputs": [],
   "source": [
    "data = [0, None, 'hello', False, 42, ''] \n",
    "truthy = list(filter(bool , data))"
   ]
  },
  {
   "cell_type": "code",
   "execution_count": 28,
   "id": "5fa093d1-dfc7-4187-8976-e025d9d4b829",
   "metadata": {},
   "outputs": [
    {
     "data": {
      "text/plain": [
       "['hello', 42]"
      ]
     },
     "execution_count": 28,
     "metadata": {},
     "output_type": "execute_result"
    }
   ],
   "source": [
    "truthy"
   ]
  },
  {
   "cell_type": "markdown",
   "id": "00b3e0e5-4115-45df-a6e8-464f668f9ada",
   "metadata": {},
   "source": [
    "1.Sum of all numbers\n",
    "nums = [1, 2, 3, 4] Output: 10"
   ]
  },
  {
   "cell_type": "code",
   "execution_count": 29,
   "id": "ba53593f-2ab9-4948-9539-0be951a3d0b3",
   "metadata": {},
   "outputs": [],
   "source": [
    "nums = [1, 2, 3, 4]\n",
    "output = sum(nums)"
   ]
  },
  {
   "cell_type": "code",
   "execution_count": 30,
   "id": "d24fd8e3-aed3-4279-b60c-b1a99b74196d",
   "metadata": {},
   "outputs": [
    {
     "data": {
      "text/plain": [
       "10"
      ]
     },
     "execution_count": 30,
     "metadata": {},
     "output_type": "execute_result"
    }
   ],
   "source": [
    "output"
   ]
  },
  {
   "cell_type": "markdown",
   "id": "216a2866-2099-4dab-9fba-6b4616e53311",
   "metadata": {},
   "source": [
    "2.Product of all even numbers nums = [1, 2, 3, 4, 5] Filter even → [2, 4] Reduce → 8"
   ]
  },
  {
   "cell_type": "code",
   "execution_count": 35,
   "id": "a9ecab0c-1cfb-41a3-ac66-5352dc1baf7d",
   "metadata": {},
   "outputs": [
    {
     "name": "stdout",
     "output_type": "stream",
     "text": [
      "8\n"
     ]
    }
   ],
   "source": [
    "from functools import reduce\n",
    "\n",
    "nums = [1, 2, 3, 4, 5]\n",
    "evens = list(filter(lambda x: x % 2 == 0, nums)) \n",
    "output = reduce(lambda x, y: x * y, evens)\n",
    "\n",
    "print(output)  \n"
   ]
  },
  {
   "cell_type": "markdown",
   "id": "3aba0cb8-ae5b-4f34-b24d-35da882a410e",
   "metadata": {},
   "source": [
    "3. Find the longest word\n",
    "words = ['apple', 'banana', 'kiwi']\n",
    "Output: 'banana'"
   ]
  },
  {
   "cell_type": "code",
   "execution_count": 36,
   "id": "5dd20442-2ff4-4356-a706-6edc214b8eb3",
   "metadata": {},
   "outputs": [],
   "source": [
    "words = ['apple', 'banana', 'kiwi']\n",
    "output = max(words, key=len)"
   ]
  },
  {
   "cell_type": "code",
   "execution_count": 37,
   "id": "0fd9a563-4f08-4cec-a285-044e341831f9",
   "metadata": {},
   "outputs": [
    {
     "data": {
      "text/plain": [
       "'banana'"
      ]
     },
     "execution_count": 37,
     "metadata": {},
     "output_type": "execute_result"
    }
   ],
   "source": [
    "output"
   ]
  },
  {
   "cell_type": "markdown",
   "id": "b02d8cf3-0ed8-4d9d-bcbc-6353525260ef",
   "metadata": {},
   "source": [
    "4. Join list of strings into one sentence\n",
    "words = ['Python', 'is', 'fun']\n",
    "Output: 'Python is fun'"
   ]
  },
  {
   "cell_type": "code",
   "execution_count": 38,
   "id": "6c37900e-4ed3-494f-b68f-66f747118f1a",
   "metadata": {},
   "outputs": [],
   "source": [
    "words = ['Python', 'is', 'fun']\n",
    "sentence = reduce(lambda x, y: x + \" \" + y, words)"
   ]
  },
  {
   "cell_type": "code",
   "execution_count": 39,
   "id": "34788073-f4dd-443a-a5d0-4ef6f3fd019f",
   "metadata": {},
   "outputs": [
    {
     "data": {
      "text/plain": [
       "'Python is fun'"
      ]
     },
     "execution_count": 39,
     "metadata": {},
     "output_type": "execute_result"
    }
   ],
   "source": [
    "sentence"
   ]
  },
  {
   "cell_type": "markdown",
   "id": "7a763ee2-debb-4fed-bf49-33800a96be22",
   "metadata": {},
   "source": [
    "5. Create number from digits\n",
    "\n",
    "digits = [1, 2, 3, 4]\n",
    "Output: 1234"
   ]
  },
  {
   "cell_type": "code",
   "execution_count": 40,
   "id": "107cd819-e238-402d-9e7f-add36fd5638f",
   "metadata": {},
   "outputs": [],
   "source": [
    "digits = [1, 2, 3, 4]\n",
    "number = reduce(lambda x, y: x * 10 + y, digits)"
   ]
  },
  {
   "cell_type": "code",
   "execution_count": 42,
   "id": "87b7bf3d-7636-420c-bfa5-01b973f791a9",
   "metadata": {},
   "outputs": [
    {
     "data": {
      "text/plain": [
       "1234"
      ]
     },
     "execution_count": 42,
     "metadata": {},
     "output_type": "execute_result"
    }
   ],
   "source": [
    "number"
   ]
  },
  {
   "cell_type": "code",
   "execution_count": null,
   "id": "968b00f3-849c-4a3a-9309-387d233a0170",
   "metadata": {},
   "outputs": [],
   "source": []
  }
 ],
 "metadata": {
  "kernelspec": {
   "display_name": "Python 3 (ipykernel)",
   "language": "python",
   "name": "python3"
  },
  "language_info": {
   "codemirror_mode": {
    "name": "ipython",
    "version": 3
   },
   "file_extension": ".py",
   "mimetype": "text/x-python",
   "name": "python",
   "nbconvert_exporter": "python",
   "pygments_lexer": "ipython3",
   "version": "3.13.5"
  }
 },
 "nbformat": 4,
 "nbformat_minor": 5
}
